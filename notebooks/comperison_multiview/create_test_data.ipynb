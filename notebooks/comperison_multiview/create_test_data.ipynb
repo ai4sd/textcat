{
 "cells": [
  {
   "cell_type": "markdown",
   "metadata": {},
   "source": [
    "# Comperison Multview"
   ]
  },
  {
   "cell_type": "markdown",
   "metadata": {},
   "source": [
    "To fairly benchmark our approach against Multview from Janghoon Ock et al. ([paper available here](https://arxiv.org/pdf/2401.07408v4)) we have to select the same subset they used for testing.\n",
    "\n",
    "For this wee need following files from multiple reposetories:\n",
    "ml_relaxed_dft_targets.pkl available at [https://github.com/Open-Catalyst-Project/AdsorbML/tree/main/adsorbml/2023_neurips_challenge](https://github.com/Open-Catalyst-Project/AdsorbML/tree/main/adsorbml/2023_neurips_challenge)\n",
    "\n",
    "As well as for each of the three ML approaches used for the initial structure to relaxed structure prediction (GemNet, SCN, eSCN) from [OC2023](https://opencatalystproject.org/challenge_2023): \n",
    "\n",
    "[GemNet-OC-S2EF-2M](https://dl.fbaipublicfiles.com/opencatalystproject/data/neurips_2023/gemnet_oc_2M_oc20dense_val_ood.tar.gz)\n",
    "\n",
    "[SCN-S2EF-2M](https://dl.fbaipublicfiles.com/opencatalystproject/data/neurips_2023/scn_2M_oc20dense_val_ood.tar.gz)\n",
    "\n",
    "[eSCN-S2EF-2M](https://dl.fbaipublicfiles.com/opencatalystproject/data/neurips_2023/escn_2M_oc20dense_val_ood.tar.gz)\n"
   ]
  },
  {
   "cell_type": "code",
   "execution_count": 1,
   "metadata": {},
   "outputs": [],
   "source": [
    "### Load packages:\n",
    "import os\n",
    "import pandas as pd\n",
    "from fairchem.core.datasets import LmdbDataset"
   ]
  },
  {
   "cell_type": "markdown",
   "metadata": {},
   "source": [
    "### Find ids\n",
    "For each ML-model (GemNet, SCN, eSCN) downloaded we go trough the folder and find the system_id and config_id"
   ]
  },
  {
   "cell_type": "code",
   "execution_count": 2,
   "metadata": {},
   "outputs": [
    {
     "name": "stdout",
     "output_type": "stream",
     "text": [
      "[['17_405_22', 'rand73', 64193], ['17_405_22', 'heur54', 60274]]\n"
     ]
    }
   ],
   "source": [
    "model_path = '../../S2EF-models/escn_2M_oc20dense_val_ood/escn_2M/oc20_dense_ood_val'\n",
    "model_name = 'escn-2M'\n",
    "\n",
    "txt_files = [f for f in os.listdir(model_path) if f.endswith('.txt')]\n",
    "temp = [pd.read_csv(f'{model_path}/{f}', usecols=[0, 1,3], header=None).values.tolist() for f in txt_files]\n",
    "configs_lmdb = [item for sublist in temp for item in sublist]\n",
    "\n",
    "# id, config, system_id (this is unique)\n",
    "print(configs_lmdb[0:2])"
   ]
  },
  {
   "cell_type": "markdown",
   "metadata": {},
   "source": [
    "Itterate over the energies find for each configuration the energy and check if it smaller than 100eV (same conditions as original authors)"
   ]
  },
  {
   "cell_type": "code",
   "execution_count": 3,
   "metadata": {},
   "outputs": [],
   "source": [
    "energies_ml = pd.read_pickle('../../S2EF-models/ml_relaxed_dft_targets.pkl')[model_name]\n",
    "\n",
    "correct_samples = []\n",
    "sids = []\n",
    "for row in configs_lmdb: \n",
    "    energy = energies_ml[row[0]][row[1]]\n",
    "    if energy < 100: \n",
    "        correct_samples.append(row)\n",
    "        sids.append(row[2])\n",
    "        \n"
   ]
  },
  {
   "cell_type": "markdown",
   "metadata": {},
   "source": [
    "Read Lambs file and collect the correct samples"
   ]
  },
  {
   "cell_type": "code",
   "execution_count": 4,
   "metadata": {},
   "outputs": [],
   "source": [
    "dataset = LmdbDataset({\"src\": model_path})\n",
    "lmdb_samples = []\n",
    "for data in dataset:\n",
    "    if data.sid in sids:\n",
    "        lmdb_samples.append(data)"
   ]
  },
  {
   "cell_type": "code",
   "execution_count": 5,
   "metadata": {},
   "outputs": [
    {
     "data": {
      "text/plain": [
       "919"
      ]
     },
     "execution_count": 5,
     "metadata": {},
     "output_type": "execute_result"
    }
   ],
   "source": [
    "len(lmdb_samples)"
   ]
  },
  {
   "cell_type": "code",
   "execution_count": 6,
   "metadata": {},
   "outputs": [
    {
     "data": {
      "text/plain": [
       "Data(y=-1.3641252517700195, pos=[158, 3], cell=[1, 3, 3], atomic_numbers=[158], natoms=158, tags=[158], force=[158, 3], fixed=[158], sid=50646, fid=130, id='1_110')"
      ]
     },
     "execution_count": 6,
     "metadata": {},
     "output_type": "execute_result"
    }
   ],
   "source": [
    "lmdb_samples[10]"
   ]
  },
  {
   "cell_type": "code",
   "execution_count": 9,
   "metadata": {},
   "outputs": [
    {
     "name": "stderr",
     "output_type": "stream",
     "text": [
      "/tmp/ipykernel_1055/2358145407.py:13: FutureWarning: You are using `torch.load` with `weights_only=False` (the current default value), which uses the default pickle module implicitly. It is possible to construct malicious pickle data which will execute arbitrary code during unpickling (See https://github.com/pytorch/pytorch/blob/main/SECURITY.md#untrusted-models for more details). In a future release, the default value for `weights_only` will be flipped to `True`. This limits the functions that could be executed during unpickling. Arbitrary objects will no longer be allowed to be loaded via this mode unless they are explicitly allowlisted by the user via `torch.serialization.add_safe_globals`. We recommend you start setting `weights_only=True` for any use case where you don't have full control of the loaded file. Please open an issue on GitHub for any issues related to this experimental feature.\n",
      "  scaler = torch.load(\"../../models/regression/fs/ft/hetsmiles_fs_o1_big_twall_notilde/scaler.pt\")\n"
     ]
    }
   ],
   "source": [
    "from transformers import BertForSequenceClassification\n",
    "from torch import load\n",
    "import torch\n",
    "from textcat.ml.tokenizer.adsorption_tokenizer import AdsorptionTokenizer\n",
    "from textcat.ml.tokenizer.bert_tokenizer import GeneralTokenizer\n",
    "from textcat.utils import lmdb_to_atoms, adsorption2smiles\n",
    "from tqdm import tqdm\n",
    "\n",
    "model = BertForSequenceClassification.from_pretrained(\"../../models/regression/fs/ft/hetsmiles_fs_o1_big_twall_notilde/checkpoint-345000\")\n",
    "tokenizer = GeneralTokenizer(\"../../models/regression/fs/ft/hetsmiles_fs_o1_big_twall_notilde/vocabulary.txt\", \n",
    "                             AdsorptionTokenizer(True, False))\n",
    "\n",
    "scaler = torch.load(\"../../models/regression/fs/ft/hetsmiles_fs_o1_big_twall_notilde/scaler.pt\")\n",
    "\n"
   ]
  },
  {
   "cell_type": "code",
   "execution_count": 8,
   "metadata": {},
   "outputs": [
    {
     "name": "stderr",
     "output_type": "stream",
     "text": [
      "  9%|▉         | 82/919 [00:18<02:26,  5.70it/s][16:33:10] WARNING: could not find number of expected rings. Switching to an approximate ring finding algorithm.\n",
      "  9%|▉         | 85/919 [00:20<05:56,  2.34it/s][16:33:12] WARNING: could not find number of expected rings. Switching to an approximate ring finding algorithm.\n",
      " 10%|▉         | 89/919 [00:21<03:44,  3.70it/s][16:33:13] WARNING: could not find number of expected rings. Switching to an approximate ring finding algorithm.\n",
      " 13%|█▎        | 123/919 [00:29<03:22,  3.93it/s][16:33:21] WARNING: could not find number of expected rings. Switching to an approximate ring finding algorithm.\n",
      " 13%|█▎        | 124/919 [00:30<03:12,  4.13it/s][16:33:21] WARNING: could not find number of expected rings. Switching to an approximate ring finding algorithm.\n",
      " 18%|█▊        | 161/919 [00:39<03:42,  3.40it/s][16:33:30] WARNING: could not find number of expected rings. Switching to an approximate ring finding algorithm.\n",
      " 18%|█▊        | 162/919 [00:39<03:27,  3.64it/s][16:33:30] WARNING: could not find number of expected rings. Switching to an approximate ring finding algorithm.\n",
      " 18%|█▊        | 163/919 [00:39<03:21,  3.76it/s][16:33:31] WARNING: could not find number of expected rings. Switching to an approximate ring finding algorithm.\n",
      " 27%|██▋       | 251/919 [00:58<02:45,  4.05it/s][16:33:50] WARNING: could not find number of expected rings. Switching to an approximate ring finding algorithm.\n",
      " 27%|██▋       | 252/919 [00:58<02:24,  4.60it/s][16:33:50] WARNING: could not find number of expected rings. Switching to an approximate ring finding algorithm.\n",
      " 31%|███       | 284/919 [01:04<02:13,  4.74it/s][16:33:56] WARNING: could not find number of expected rings. Switching to an approximate ring finding algorithm.\n",
      " 31%|███       | 285/919 [01:04<02:37,  4.01it/s][16:33:56] WARNING: could not find number of expected rings. Switching to an approximate ring finding algorithm.\n",
      " 31%|███       | 286/919 [01:05<02:22,  4.46it/s][16:33:56] WARNING: could not find number of expected rings. Switching to an approximate ring finding algorithm.\n",
      " 31%|███       | 287/919 [01:05<02:12,  4.79it/s][16:33:56] WARNING: could not find number of expected rings. Switching to an approximate ring finding algorithm.\n",
      " 31%|███▏      | 288/919 [01:05<02:05,  5.04it/s][16:33:57] WARNING: could not find number of expected rings. Switching to an approximate ring finding algorithm.\n",
      " 32%|███▏      | 298/919 [01:07<02:49,  3.66it/s][16:33:59] WARNING: could not find number of expected rings. Switching to an approximate ring finding algorithm.\n",
      " 33%|███▎      | 299/919 [01:07<02:34,  4.02it/s][16:33:59] WARNING: could not find number of expected rings. Switching to an approximate ring finding algorithm.\n",
      " 33%|███▎      | 300/919 [01:08<02:25,  4.25it/s][16:33:59] WARNING: could not find number of expected rings. Switching to an approximate ring finding algorithm.\n",
      " 33%|███▎      | 301/919 [01:08<02:19,  4.43it/s][16:34:00] WARNING: could not find number of expected rings. Switching to an approximate ring finding algorithm.\n",
      " 33%|███▎      | 302/919 [01:08<02:16,  4.53it/s][16:34:00] WARNING: could not find number of expected rings. Switching to an approximate ring finding algorithm.\n",
      "[16:34:00] WARNING: could not find number of expected rings. Switching to an approximate ring finding algorithm.\n",
      " 33%|███▎      | 304/919 [01:08<01:39,  6.19it/s][16:34:00] WARNING: could not find number of expected rings. Switching to an approximate ring finding algorithm.\n",
      " 36%|███▌      | 327/919 [01:14<02:21,  4.18it/s][16:34:05] WARNING: could not find number of expected rings. Switching to an approximate ring finding algorithm.\n",
      " 36%|███▌      | 328/919 [01:14<02:05,  4.69it/s][16:34:05] WARNING: could not find number of expected rings. Switching to an approximate ring finding algorithm.\n",
      " 36%|███▌      | 329/919 [01:14<01:55,  5.10it/s][16:34:06] WARNING: could not find number of expected rings. Switching to an approximate ring finding algorithm.\n",
      " 36%|███▌      | 330/919 [01:14<01:48,  5.40it/s][16:34:06] WARNING: could not find number of expected rings. Switching to an approximate ring finding algorithm.\n",
      " 36%|███▌      | 331/919 [01:14<02:13,  4.40it/s][16:34:06] WARNING: could not find number of expected rings. Switching to an approximate ring finding algorithm.\n",
      " 38%|███▊      | 346/919 [01:17<00:56, 10.17it/s][16:34:08] WARNING: could not find number of expected rings. Switching to an approximate ring finding algorithm.\n",
      " 39%|███▉      | 362/919 [01:20<02:07,  4.37it/s][16:34:12] WARNING: could not find number of expected rings. Switching to an approximate ring finding algorithm.\n",
      " 39%|███▉      | 363/919 [01:20<02:11,  4.24it/s][16:34:12] WARNING: could not find number of expected rings. Switching to an approximate ring finding algorithm.\n",
      " 40%|███▉      | 364/919 [01:21<02:16,  4.08it/s][16:34:12] WARNING: could not find number of expected rings. Switching to an approximate ring finding algorithm.\n",
      " 40%|███▉      | 365/919 [01:21<02:15,  4.07it/s][16:34:13] WARNING: could not find number of expected rings. Switching to an approximate ring finding algorithm.\n",
      " 40%|███▉      | 366/919 [01:21<02:16,  4.05it/s][16:34:13] WARNING: could not find number of expected rings. Switching to an approximate ring finding algorithm.\n",
      " 42%|████▏     | 386/919 [01:26<02:05,  4.25it/s][16:34:17] WARNING: could not find number of expected rings. Switching to an approximate ring finding algorithm.\n",
      " 42%|████▏     | 387/919 [01:26<01:49,  4.87it/s][16:34:18] WARNING: could not find number of expected rings. Switching to an approximate ring finding algorithm.\n",
      " 42%|████▏     | 388/919 [01:26<01:39,  5.34it/s][16:34:18] WARNING: could not find number of expected rings. Switching to an approximate ring finding algorithm.\n",
      " 42%|████▏     | 389/919 [01:26<01:31,  5.77it/s][16:34:18] WARNING: could not find number of expected rings. Switching to an approximate ring finding algorithm.\n",
      " 42%|████▏     | 390/919 [01:26<01:27,  6.05it/s][16:34:18] WARNING: could not find number of expected rings. Switching to an approximate ring finding algorithm.\n",
      " 47%|████▋     | 431/919 [01:35<02:04,  3.93it/s][16:34:27] WARNING: could not find number of expected rings. Switching to an approximate ring finding algorithm.\n",
      " 60%|█████▉    | 551/919 [02:00<01:24,  4.36it/s][16:34:52] WARNING: could not find number of expected rings. Switching to an approximate ring finding algorithm.\n",
      " 60%|██████    | 552/919 [02:00<01:16,  4.79it/s][16:34:52] WARNING: could not find number of expected rings. Switching to an approximate ring finding algorithm.\n",
      " 60%|██████    | 553/919 [02:01<01:09,  5.24it/s][16:34:52] WARNING: could not find number of expected rings. Switching to an approximate ring finding algorithm.\n",
      " 60%|██████    | 554/919 [02:01<01:05,  5.60it/s][16:34:52] WARNING: could not find number of expected rings. Switching to an approximate ring finding algorithm.\n",
      " 60%|██████    | 555/919 [02:01<01:01,  5.91it/s][16:34:53] WARNING: could not find number of expected rings. Switching to an approximate ring finding algorithm.\n",
      " 61%|██████    | 556/919 [02:01<00:59,  6.10it/s][16:34:53] WARNING: could not find number of expected rings. Switching to an approximate ring finding algorithm.\n",
      " 61%|██████    | 557/919 [02:01<01:00,  6.03it/s][16:34:53] WARNING: could not find number of expected rings. Switching to an approximate ring finding algorithm.\n",
      " 61%|██████    | 558/919 [02:02<01:17,  4.64it/s][16:34:53] WARNING: could not find number of expected rings. Switching to an approximate ring finding algorithm.\n",
      " 61%|██████    | 559/919 [02:02<01:11,  5.03it/s][16:34:53] WARNING: could not find number of expected rings. Switching to an approximate ring finding algorithm.\n",
      " 61%|██████    | 560/919 [02:02<01:07,  5.32it/s][16:34:54] WARNING: could not find number of expected rings. Switching to an approximate ring finding algorithm.\n",
      " 70%|██████▉   | 640/919 [02:20<01:09,  4.02it/s][16:35:11] WARNING: could not find number of expected rings. Switching to an approximate ring finding algorithm.\n",
      " 70%|██████▉   | 641/919 [02:20<01:11,  3.87it/s][16:35:12] WARNING: could not find number of expected rings. Switching to an approximate ring finding algorithm.\n",
      " 70%|██████▉   | 642/919 [02:20<01:14,  3.74it/s][16:35:12] WARNING: could not find number of expected rings. Switching to an approximate ring finding algorithm.\n",
      " 70%|██████▉   | 643/919 [02:21<01:14,  3.72it/s][16:35:12] WARNING: could not find number of expected rings. Switching to an approximate ring finding algorithm.\n",
      " 70%|███████   | 644/919 [02:21<01:14,  3.68it/s][16:35:13] WARNING: could not find number of expected rings. Switching to an approximate ring finding algorithm.\n",
      " 76%|███████▋  | 701/919 [02:35<00:48,  4.51it/s][16:35:27] WARNING: could not find number of expected rings. Switching to an approximate ring finding algorithm.\n",
      " 80%|████████  | 736/919 [02:43<00:40,  4.49it/s][16:35:35] WARNING: could not find number of expected rings. Switching to an approximate ring finding algorithm.\n",
      " 80%|████████  | 738/919 [02:44<00:48,  3.72it/s][16:35:36] WARNING: could not find number of expected rings. Switching to an approximate ring finding algorithm.\n",
      " 87%|████████▋ | 803/919 [03:02<00:26,  4.30it/s][16:35:54] WARNING: could not find number of expected rings. Switching to an approximate ring finding algorithm.\n",
      " 87%|████████▋ | 804/919 [03:02<00:24,  4.68it/s][16:35:54] WARNING: could not find number of expected rings. Switching to an approximate ring finding algorithm.\n",
      " 89%|████████▉ | 818/919 [03:05<00:21,  4.76it/s][16:35:57] WARNING: could not find number of expected rings. Switching to an approximate ring finding algorithm.\n",
      " 89%|████████▉ | 819/919 [03:06<00:20,  4.89it/s][16:35:57] WARNING: could not find number of expected rings. Switching to an approximate ring finding algorithm.\n",
      " 89%|████████▉ | 820/919 [03:06<00:19,  4.98it/s][16:35:57] WARNING: could not find number of expected rings. Switching to an approximate ring finding algorithm.\n",
      " 89%|████████▉ | 821/919 [03:06<00:19,  5.12it/s][16:35:58] WARNING: could not find number of expected rings. Switching to an approximate ring finding algorithm.\n",
      " 89%|████████▉ | 822/919 [03:06<00:18,  5.23it/s][16:35:58] WARNING: could not find number of expected rings. Switching to an approximate ring finding algorithm.\n",
      " 90%|████████▉ | 823/919 [03:06<00:18,  5.24it/s][16:35:58] WARNING: could not find number of expected rings. Switching to an approximate ring finding algorithm.\n",
      " 90%|████████▉ | 824/919 [03:06<00:18,  5.11it/s][16:35:58] WARNING: could not find number of expected rings. Switching to an approximate ring finding algorithm.\n",
      " 90%|████████▉ | 825/919 [03:07<00:18,  5.00it/s][16:35:58] WARNING: could not find number of expected rings. Switching to an approximate ring finding algorithm.\n",
      " 90%|████████▉ | 826/919 [03:07<00:18,  4.95it/s][16:35:59] WARNING: could not find number of expected rings. Switching to an approximate ring finding algorithm.\n",
      "100%|██████████| 919/919 [03:34<00:00,  4.28it/s]\n"
     ]
    }
   ],
   "source": [
    "predictions, trues = [], []\n",
    "with torch.no_grad():\n",
    "  for data in tqdm(lmdb_samples):\n",
    "      atoms = lmdb_to_atoms(data, False)  # False as OC20 dense only contains coordinates for relaxed state\n",
    "      smiles = adsorption2smiles(atoms, \n",
    "                                data.tags,\n",
    "                                order=1\n",
    "                                )[0]\n",
    "      trues.append(data.y)\n",
    "      x = tokenizer(smiles, \n",
    "                    None,\n",
    "                  add_special_tokens=True,\n",
    "                  padding='max_length',\n",
    "                  max_length=176,\n",
    "                  return_token_type_ids=True,\n",
    "                  truncation=True,\n",
    "          )\n",
    "      x = {'input_ids': torch.tensor([x[\"input_ids\"]], dtype=torch.long), \n",
    "          'attention_mask': torch.tensor([x[\"attention_mask\"]], dtype=torch.long)}\n",
    "      predictions.append(model(**x))"
   ]
  },
  {
   "cell_type": "code",
   "execution_count": 11,
   "metadata": {},
   "outputs": [
    {
     "data": {
      "text/plain": [
       "SequenceClassifierOutput(loss=None, logits=tensor([[-0.2783]]), hidden_states=None, attentions=None)"
      ]
     },
     "execution_count": 11,
     "metadata": {},
     "output_type": "execute_result"
    }
   ],
   "source": [
    "predictions[0]"
   ]
  },
  {
   "cell_type": "code",
   "execution_count": 20,
   "metadata": {},
   "outputs": [
    {
     "data": {
      "text/plain": [
       "tensor([[0.4789]], dtype=torch.float64)"
      ]
     },
     "execution_count": 20,
     "metadata": {},
     "output_type": "execute_result"
    }
   ],
   "source": [
    "std = scaler.scale_\n",
    "mean = scaler.mean_\n",
    "preds_eV = [y['logits']*std + mean for y in predictions]\n",
    "\n",
    "mae = sum([abs(i-j) for i,j in zip(preds_eV, trues)])/ len(trues)\n",
    "mae"
   ]
  },
  {
   "cell_type": "code",
   "execution_count": 21,
   "metadata": {},
   "outputs": [
    {
     "data": {
      "text/plain": [
       "tensor([[0.4955]], dtype=torch.float64)"
      ]
     },
     "execution_count": 21,
     "metadata": {},
     "output_type": "execute_result"
    }
   ],
   "source": [
    "ml_energies = []\n",
    "for row in configs_lmdb: \n",
    "    energy = energies_ml[row[0]][row[1]]\n",
    "    if energy < 100: \n",
    "        ml_energies.append(energy)\n",
    "mae = sum([abs(i-j) for i,j in zip(preds_eV, ml_energies)])/ len(ml_energies)\n",
    "mae"
   ]
  }
 ],
 "metadata": {
  "kernelspec": {
   "display_name": "tcat",
   "language": "python",
   "name": "python3"
  },
  "language_info": {
   "codemirror_mode": {
    "name": "ipython",
    "version": 3
   },
   "file_extension": ".py",
   "mimetype": "text/x-python",
   "name": "python",
   "nbconvert_exporter": "python",
   "pygments_lexer": "ipython3",
   "version": "3.10.14"
  }
 },
 "nbformat": 4,
 "nbformat_minor": 2
}
